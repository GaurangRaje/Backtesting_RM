{
 "cells": [
  {
   "cell_type": "markdown",
   "metadata": {},
   "source": [
    "# Importing the libraries"
   ]
  },
  {
   "cell_type": "code",
   "execution_count": 58,
   "metadata": {},
   "outputs": [],
   "source": [
    "import pandas as pd\n",
    "import numpy as np\n",
    "import matplotlib.pyplot as plt\n",
    "\n",
    "import yfinance as yf\n",
    "from pandas_datareader import data as pdr\n",
    "yf.pdr_override()\n",
    "import datetime as dt"
   ]
  },
  {
   "cell_type": "markdown",
   "metadata": {},
   "source": [
    "# Importing the dataset"
   ]
  },
  {
   "cell_type": "markdown",
   "metadata": {},
   "source": [
    "## Stock"
   ]
  },
  {
   "cell_type": "code",
   "execution_count": 59,
   "metadata": {},
   "outputs": [],
   "source": [
    "ticker = 'RELIANCE.NS'"
   ]
  },
  {
   "cell_type": "markdown",
   "metadata": {},
   "source": [
    "## Timeframe"
   ]
  },
  {
   "cell_type": "code",
   "execution_count": 60,
   "metadata": {},
   "outputs": [
    {
     "name": "stdout",
     "output_type": "stream",
     "text": [
      "2020-07-09 00:00:00\n",
      "2020-08-09 10:27:03.924324\n"
     ]
    }
   ],
   "source": [
    "startyear = 2020\n",
    "startmonth = 7\n",
    "startday = 9\n",
    "start = dt.datetime(startyear, startmonth, startday)\n",
    "\n",
    "now = dt.datetime.now()\n",
    "end = now\n",
    "\n",
    "# endyear = 2019\n",
    "# endmonth = 10\n",
    "# endday = 7\n",
    "# end = dt.datetime(endyear, endmonth, endday)\n",
    "print(start)\n",
    "print(end)"
   ]
  },
  {
   "cell_type": "markdown",
   "metadata": {},
   "source": [
    "## Getting the dataset"
   ]
  },
  {
   "cell_type": "code",
   "execution_count": 61,
   "metadata": {},
   "outputs": [
    {
     "name": "stdout",
     "output_type": "stream",
     "text": [
      "[*********************100%***********************]  1 of 1 completed\n"
     ]
    }
   ],
   "source": [
    "df = pdr.get_data_yahoo(ticker, start, end)"
   ]
  },
  {
   "cell_type": "markdown",
   "metadata": {},
   "source": [
    "# Algorithm"
   ]
  },
  {
   "cell_type": "markdown",
   "metadata": {},
   "source": [
    "## List of moving averages used"
   ]
  },
  {
   "cell_type": "code",
   "execution_count": 62,
   "metadata": {},
   "outputs": [],
   "source": [
    "emasUsed = [3, 5, 8, 10, 12, 15, 30, 35, 40, 45, 50, 60]"
   ]
  },
  {
   "cell_type": "markdown",
   "metadata": {},
   "source": [
    "## Acquiring EMAs"
   ]
  },
  {
   "cell_type": "code",
   "execution_count": 63,
   "metadata": {},
   "outputs": [],
   "source": [
    "for x in emasUsed:\n",
    "    ema = x\n",
    "    df[\"EMA_\"+str(ema)] = round(df.iloc[:, 4].ewm(span=ema, adjust=False).mean(), 2)"
   ]
  },
  {
   "cell_type": "code",
   "execution_count": 64,
   "metadata": {},
   "outputs": [
    {
     "data": {
      "text/html": [
       "<div>\n",
       "<style scoped>\n",
       "    .dataframe tbody tr th:only-of-type {\n",
       "        vertical-align: middle;\n",
       "    }\n",
       "\n",
       "    .dataframe tbody tr th {\n",
       "        vertical-align: top;\n",
       "    }\n",
       "\n",
       "    .dataframe thead th {\n",
       "        text-align: right;\n",
       "    }\n",
       "</style>\n",
       "<table border=\"1\" class=\"dataframe\">\n",
       "  <thead>\n",
       "    <tr style=\"text-align: right;\">\n",
       "      <th></th>\n",
       "      <th>Open</th>\n",
       "      <th>High</th>\n",
       "      <th>Low</th>\n",
       "      <th>Close</th>\n",
       "      <th>Adj Close</th>\n",
       "      <th>Volume</th>\n",
       "      <th>EMA_3</th>\n",
       "      <th>EMA_5</th>\n",
       "      <th>EMA_8</th>\n",
       "      <th>EMA_10</th>\n",
       "      <th>EMA_12</th>\n",
       "      <th>EMA_15</th>\n",
       "      <th>EMA_30</th>\n",
       "      <th>EMA_35</th>\n",
       "      <th>EMA_40</th>\n",
       "      <th>EMA_45</th>\n",
       "      <th>EMA_50</th>\n",
       "      <th>EMA_60</th>\n",
       "    </tr>\n",
       "    <tr>\n",
       "      <th>Date</th>\n",
       "      <th></th>\n",
       "      <th></th>\n",
       "      <th></th>\n",
       "      <th></th>\n",
       "      <th></th>\n",
       "      <th></th>\n",
       "      <th></th>\n",
       "      <th></th>\n",
       "      <th></th>\n",
       "      <th></th>\n",
       "      <th></th>\n",
       "      <th></th>\n",
       "      <th></th>\n",
       "      <th></th>\n",
       "      <th></th>\n",
       "      <th></th>\n",
       "      <th></th>\n",
       "      <th></th>\n",
       "    </tr>\n",
       "  </thead>\n",
       "  <tbody>\n",
       "    <tr>\n",
       "      <th>2020-08-03</th>\n",
       "      <td>2051.300049</td>\n",
       "      <td>2057.000000</td>\n",
       "      <td>2003.099976</td>\n",
       "      <td>2009.000000</td>\n",
       "      <td>2009.000000</td>\n",
       "      <td>21559142</td>\n",
       "      <td>2050.17</td>\n",
       "      <td>2065.49</td>\n",
       "      <td>2062.01</td>\n",
       "      <td>2052.67</td>\n",
       "      <td>2041.68</td>\n",
       "      <td>2024.94</td>\n",
       "      <td>1962.61</td>\n",
       "      <td>1948.96</td>\n",
       "      <td>1937.66</td>\n",
       "      <td>1928.17</td>\n",
       "      <td>1920.11</td>\n",
       "      <td>1907.19</td>\n",
       "    </tr>\n",
       "    <tr>\n",
       "      <th>2020-08-04</th>\n",
       "      <td>2020.599976</td>\n",
       "      <td>2167.000000</td>\n",
       "      <td>2000.250000</td>\n",
       "      <td>2150.600098</td>\n",
       "      <td>2150.600098</td>\n",
       "      <td>42476932</td>\n",
       "      <td>2100.38</td>\n",
       "      <td>2093.86</td>\n",
       "      <td>2081.69</td>\n",
       "      <td>2070.48</td>\n",
       "      <td>2058.44</td>\n",
       "      <td>2040.65</td>\n",
       "      <td>1974.74</td>\n",
       "      <td>1960.16</td>\n",
       "      <td>1948.04</td>\n",
       "      <td>1937.84</td>\n",
       "      <td>1929.15</td>\n",
       "      <td>1915.17</td>\n",
       "    </tr>\n",
       "    <tr>\n",
       "      <th>2020-08-05</th>\n",
       "      <td>2169.000000</td>\n",
       "      <td>2196.000000</td>\n",
       "      <td>2118.300049</td>\n",
       "      <td>2126.449951</td>\n",
       "      <td>2126.449951</td>\n",
       "      <td>34404810</td>\n",
       "      <td>2113.42</td>\n",
       "      <td>2104.72</td>\n",
       "      <td>2091.64</td>\n",
       "      <td>2080.65</td>\n",
       "      <td>2068.90</td>\n",
       "      <td>2051.37</td>\n",
       "      <td>1984.53</td>\n",
       "      <td>1969.40</td>\n",
       "      <td>1956.75</td>\n",
       "      <td>1946.04</td>\n",
       "      <td>1936.89</td>\n",
       "      <td>1922.10</td>\n",
       "    </tr>\n",
       "    <tr>\n",
       "      <th>2020-08-06</th>\n",
       "      <td>2157.000000</td>\n",
       "      <td>2167.699951</td>\n",
       "      <td>2107.800049</td>\n",
       "      <td>2134.100098</td>\n",
       "      <td>2134.100098</td>\n",
       "      <td>22762545</td>\n",
       "      <td>2123.76</td>\n",
       "      <td>2114.52</td>\n",
       "      <td>2101.07</td>\n",
       "      <td>2090.37</td>\n",
       "      <td>2078.93</td>\n",
       "      <td>2061.72</td>\n",
       "      <td>1994.18</td>\n",
       "      <td>1978.55</td>\n",
       "      <td>1965.40</td>\n",
       "      <td>1954.22</td>\n",
       "      <td>1944.62</td>\n",
       "      <td>1929.05</td>\n",
       "    </tr>\n",
       "    <tr>\n",
       "      <th>2020-08-07</th>\n",
       "      <td>2129.800049</td>\n",
       "      <td>2157.800049</td>\n",
       "      <td>2120.199951</td>\n",
       "      <td>2146.449951</td>\n",
       "      <td>2146.449951</td>\n",
       "      <td>15217200</td>\n",
       "      <td>2135.10</td>\n",
       "      <td>2125.16</td>\n",
       "      <td>2111.16</td>\n",
       "      <td>2100.57</td>\n",
       "      <td>2089.32</td>\n",
       "      <td>2072.31</td>\n",
       "      <td>2004.00</td>\n",
       "      <td>1987.88</td>\n",
       "      <td>1974.23</td>\n",
       "      <td>1962.58</td>\n",
       "      <td>1952.54</td>\n",
       "      <td>1936.18</td>\n",
       "    </tr>\n",
       "  </tbody>\n",
       "</table>\n",
       "</div>"
      ],
      "text/plain": [
       "                   Open         High          Low        Close    Adj Close  \\\n",
       "Date                                                                          \n",
       "2020-08-03  2051.300049  2057.000000  2003.099976  2009.000000  2009.000000   \n",
       "2020-08-04  2020.599976  2167.000000  2000.250000  2150.600098  2150.600098   \n",
       "2020-08-05  2169.000000  2196.000000  2118.300049  2126.449951  2126.449951   \n",
       "2020-08-06  2157.000000  2167.699951  2107.800049  2134.100098  2134.100098   \n",
       "2020-08-07  2129.800049  2157.800049  2120.199951  2146.449951  2146.449951   \n",
       "\n",
       "              Volume    EMA_3    EMA_5    EMA_8   EMA_10   EMA_12   EMA_15  \\\n",
       "Date                                                                         \n",
       "2020-08-03  21559142  2050.17  2065.49  2062.01  2052.67  2041.68  2024.94   \n",
       "2020-08-04  42476932  2100.38  2093.86  2081.69  2070.48  2058.44  2040.65   \n",
       "2020-08-05  34404810  2113.42  2104.72  2091.64  2080.65  2068.90  2051.37   \n",
       "2020-08-06  22762545  2123.76  2114.52  2101.07  2090.37  2078.93  2061.72   \n",
       "2020-08-07  15217200  2135.10  2125.16  2111.16  2100.57  2089.32  2072.31   \n",
       "\n",
       "             EMA_30   EMA_35   EMA_40   EMA_45   EMA_50   EMA_60  \n",
       "Date                                                              \n",
       "2020-08-03  1962.61  1948.96  1937.66  1928.17  1920.11  1907.19  \n",
       "2020-08-04  1974.74  1960.16  1948.04  1937.84  1929.15  1915.17  \n",
       "2020-08-05  1984.53  1969.40  1956.75  1946.04  1936.89  1922.10  \n",
       "2020-08-06  1994.18  1978.55  1965.40  1954.22  1944.62  1929.05  \n",
       "2020-08-07  2004.00  1987.88  1974.23  1962.58  1952.54  1936.18  "
      ]
     },
     "execution_count": 64,
     "metadata": {},
     "output_type": "execute_result"
    }
   ],
   "source": [
    "df.tail()"
   ]
  },
  {
   "cell_type": "markdown",
   "metadata": {},
   "source": [
    "## Trading calls"
   ]
  },
  {
   "cell_type": "code",
   "execution_count": 65,
   "metadata": {},
   "outputs": [
    {
     "name": "stdout",
     "output_type": "stream",
     "text": [
      "Buying now at 1878.050048828125\n",
      "Selling now at 2146.449951171875\n",
      "[14.291413719843483]\n"
     ]
    }
   ],
   "source": [
    "pos = 0\n",
    "num = 0\n",
    "percentchange = []\n",
    "\n",
    "for i in df.index:\n",
    "    cmin = min(df[\"EMA_3\"][i], df[\"EMA_5\"][i], df[\"EMA_8\"][i], df[\"EMA_10\"][i], \n",
    "               df[\"EMA_12\"][i], df[\"EMA_15\"][i])\n",
    "    cmax = max(df[\"EMA_30\"][i], df[\"EMA_35\"][i], df[\"EMA_40\"][i], df[\"EMA_45\"][i], \n",
    "                df[\"EMA_50\"][i], df[\"EMA_60\"][i])\n",
    "    \n",
    "    close = df[\"Adj Close\"][i]\n",
    "    \n",
    "    if(cmin>cmax):\n",
    "        #print(\"Red White Blue\")\n",
    "        if(pos == 0):\n",
    "            bp = close\n",
    "            pos = 1\n",
    "            print(\"Buying now at \"+str(bp))\n",
    "            \n",
    "    elif(cmin<cmax):\n",
    "        #print(\"Blue White Red\")\n",
    "        if(pos == 1):\n",
    "            pos = 0\n",
    "            sp = close\n",
    "            print(\"Selling now at \"+str(sp))\n",
    "            pc = (sp/bp - 1)*100\n",
    "            percentchange.append(pc)\n",
    "            \n",
    "    if(num==df[\"Adj Close\"].count() - 1 and pos==1):\n",
    "        pos = 0\n",
    "        sp = close\n",
    "        print(\"Selling now at \"+str(sp))\n",
    "        pc = (sp/bp - 1)*100\n",
    "        percentchange.append(pc)\n",
    "    \n",
    "    num += 1 \n",
    "print(percentchange)"
   ]
  },
  {
   "cell_type": "markdown",
   "metadata": {},
   "source": [
    "# Analysing results"
   ]
  },
  {
   "cell_type": "markdown",
   "metadata": {},
   "source": [
    "## Calculating parameters"
   ]
  },
  {
   "cell_type": "code",
   "execution_count": 66,
   "metadata": {},
   "outputs": [],
   "source": [
    "gains = 0\n",
    "ng = 0\n",
    "losses = 0\n",
    "nl = 0\n",
    "totalR = 1\n",
    "\n",
    "for i in percentchange:\n",
    "    if(i>0):\n",
    "        gains += i\n",
    "        ng += 1\n",
    "    else:\n",
    "        losses += i\n",
    "        nl += 1\n",
    "        \n",
    "    totalR = totalR*((i/100)+1)\n",
    "\n",
    "totalR = round((totalR-1)*100, 2)\n",
    "\n",
    "if(ng > 0):\n",
    "    avgGain = gains/ng\n",
    "    maxR = str(max(percentchange))\n",
    "else:\n",
    "    avgGain = 0\n",
    "    maxR = \"undefined\"\n",
    "    \n",
    "if(nl > 0):\n",
    "    avgLoss = losses/nl\n",
    "    maxL = str(min(percentchange))\n",
    "    ratio = (-avgGain/avgLoss)\n",
    "else:\n",
    "    avgLoss = 0\n",
    "    maxL = \"undefined\"\n",
    "    ratio = \"inf\"\n",
    "    \n",
    "if(ng>0 or nl>0):\n",
    "    battingAvg = ng/(ng+nl)\n",
    "else:\n",
    "    battingAvg=0"
   ]
  },
  {
   "cell_type": "markdown",
   "metadata": {},
   "source": [
    "## Summary chart"
   ]
  },
  {
   "cell_type": "code",
   "execution_count": 67,
   "metadata": {},
   "outputs": [
    {
     "name": "stdout",
     "output_type": "stream",
     "text": [
      "\n",
      "Results for RELIANCE.NS going back to 2020-07-09 00:00:00, Sample size: 1 trades\n",
      "EMAs used: [3, 5, 8, 10, 12, 15, 30, 35, 40, 45, 50, 60]\n",
      "Batting Avg: 1.0\n",
      "Gain/loss ratio: inf\n",
      "Average Gain: 14.291413719843483\n",
      "Average Loss: 0\n",
      "Max Return: 14.291413719843483\n",
      "Max Loss: undefined\n",
      "Total return over 1 trades: 14.29%\n",
      "\n"
     ]
    }
   ],
   "source": [
    "print()\n",
    "print(\"Results for \"+ ticker +\" going back to \"+str(df.index[0])+\", Sample size: \"+str(ng+nl)+\" trades\")\n",
    "print(\"EMAs used: \"+str(emasUsed))\n",
    "print(\"Batting Avg: \"+ str(battingAvg))\n",
    "print(\"Gain/loss ratio: \"+ ratio)\n",
    "print(\"Average Gain: \"+ str(avgGain))\n",
    "print(\"Average Loss: \"+ str(avgLoss))\n",
    "print(\"Max Return: \"+ maxR)\n",
    "print(\"Max Loss: \"+ maxL)\n",
    "print(\"Total return over \"+str(ng+nl)+ \" trades: \"+ str(totalR)+\"%\" )\n",
    "#print(\"Example return Simulating \"+str(n)+ \" trades: \"+ str(nReturn)+\"%\" )\n",
    "print()"
   ]
  },
  {
   "cell_type": "code",
   "execution_count": null,
   "metadata": {},
   "outputs": [],
   "source": []
  },
  {
   "cell_type": "code",
   "execution_count": null,
   "metadata": {},
   "outputs": [],
   "source": []
  }
 ],
 "metadata": {
  "kernelspec": {
   "display_name": "Python 3",
   "language": "python",
   "name": "python3"
  },
  "language_info": {
   "codemirror_mode": {
    "name": "ipython",
    "version": 3
   },
   "file_extension": ".py",
   "mimetype": "text/x-python",
   "name": "python",
   "nbconvert_exporter": "python",
   "pygments_lexer": "ipython3",
   "version": "3.7.6"
  }
 },
 "nbformat": 4,
 "nbformat_minor": 4
}
